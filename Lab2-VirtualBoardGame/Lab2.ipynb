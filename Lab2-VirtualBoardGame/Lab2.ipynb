{
 "cells": [
  {
   "cell_type": "code",
   "execution_count": null,
   "metadata": {},
   "outputs": [],
   "source": [
    "##Fatma Betul Seker\n",
    "##Lab 2 - Virtual Board Game\n",
    "## 27 Jan 2022\n",
    "import random as rn\n",
    "import numpy as nm"
   ]
  },
  {
   "cell_type": "code",
   "execution_count": null,
   "metadata": {
    "scrolled": true
   },
   "outputs": [],
   "source": [
    "player_no = input(\"Enter the number of players numerically:\")"
   ]
  },
  {
   "cell_type": "code",
   "execution_count": null,
   "metadata": {},
   "outputs": [],
   "source": [
    "player_no = int(player_no)\n",
    "if player_no < 2:\n",
    "    print(\"You need at least 2 players\")\n",
    "    player_no = input(\"Enter the number of players numerically:\")\n",
    "    player_no = int(player_no)\n",
    "else:\n",
    "    print(\"Let's start!\")"
   ]
  },
  {
   "cell_type": "code",
   "execution_count": null,
   "metadata": {},
   "outputs": [],
   "source": [
    "player_location = nm.ones((player_no,), dtype=int)\n",
    "\n",
    "while max(player_location) < 100:\n",
    "    for i in range(player_no):\n",
    "        print(\"It's the player number\", i+1,\"'s turn!'\")\n",
    "        dice=rn.randint(1,6)\n",
    "        print(\"Dice:\", dice)\n",
    "        player_location[i]=player_location[i]+dice\n",
    "        \n",
    "        if player_location[i] in [2, 15, 48, 92]:\n",
    "            print(\"Move 5 blocks!\")\n",
    "            player_location[i]=player_location[i]+5\n",
    "            \n",
    "        elif player_location[i] in [6, 13, 66, 99]:\n",
    "            print(\"You're cursed. Go back to start point\")\n",
    "            player_location[i]=1\n",
    "            \n",
    "        elif player_location[i] == 50:\n",
    "            print(\"You're half way there. Good job. Roll another dice!\")\n",
    "            dice=rn.randint(1,6)\n",
    "            player_location[i]=player_location[i]+dice\n",
    "            \n",
    "        elif player_location[i] in [24, 33, 52, 95]:\n",
    "            print(\"You've been caught above speed limit. Roll a dice and go back twice of it.\")\n",
    "            dice=rn.randint(1,6)\n",
    "            player_location[i]=player_location[i] - (dice*2)\n",
    "            \n",
    "        elif player_location[i] in [10, 20, 30, 40, 60, 70, 80, 90]:\n",
    "            print(\"The player\", i+1,\"is now at block\", player_location[i])\n",
    "            print(\"If you're obsessive you probably like it here. Let's move you one block further\")\n",
    "            player_location[i]=player_location[i]+1\n",
    "            \n",
    "        elif player_location[i] in [25, 75]:\n",
    "            print(\"Choose one: Moving 3 blocks or rolling another dice\")\n",
    "            print(\"Enter 1 for moving 3 blocks, Enter 2 for rolling another dice\")\n",
    "            player_response=input()\n",
    "            player_response=int(player_response)\n",
    "            if player_response == 1:\n",
    "                player_location[i]=player_location[i]+3\n",
    "            else:\n",
    "                dice=rn.randint(1,6)\n",
    "                player_location[i]=player_location[i]+dice\n",
    "                \n",
    "        elif  player_location[i] in [56, 82, 94]:\n",
    "            print(\"Life is not easy. Go back the block you came from\")\n",
    "            player_location[i]=player_location[i]-dice\n",
    "            \n",
    "        print(\"The player\", i+1,\"is now at block\", player_location[i])\n",
    "print(\"Player\", nm.argmax(player_location)+1, \"is the winner!\" )\n",
    "    "
   ]
  },
  {
   "cell_type": "code",
   "execution_count": null,
   "metadata": {},
   "outputs": [],
   "source": [
    "\n",
    "    "
   ]
  }
 ],
 "metadata": {
  "kernelspec": {
   "display_name": "Python 3",
   "language": "python",
   "name": "python3"
  },
  "language_info": {
   "codemirror_mode": {
    "name": "ipython",
    "version": 3
   },
   "file_extension": ".py",
   "mimetype": "text/x-python",
   "name": "python",
   "nbconvert_exporter": "python",
   "pygments_lexer": "ipython3",
   "version": "3.7.1"
  }
 },
 "nbformat": 4,
 "nbformat_minor": 2
}
