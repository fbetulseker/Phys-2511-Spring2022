{
 "cells": [
  {
   "cell_type": "code",
   "execution_count": 1,
   "id": "401d1884",
   "metadata": {},
   "outputs": [],
   "source": [
    "#Fatma Betul Seker\n",
    "#Lab 5 - Area Under a Curve\n",
    "#17 Feb 2022\n",
    "\n",
    "import numpy as np\n",
    "import math as ma\n",
    "from scipy import integrate\n",
    "import matplotlib as mpl\n",
    "import matplotlib.pyplot as plt"
   ]
  },
  {
   "cell_type": "markdown",
   "id": "3d43313b",
   "metadata": {},
   "source": [
    "## Question:\n",
    "\n",
    "Find the area under 3 curves, over the interval x = -5.0 to 5.0:\n",
    "\n",
    "• Straight line: y1 = -0.5 x + 4.0\n",
    "\n",
    "• Parabola: y2 = -0.29 x2 - x + 12.5\n",
    "\n",
    "• More Complicated function: y3 = 1.0 + 10(x + 1.0)exp(-x2)"
   ]
  },
  {
   "cell_type": "code",
   "execution_count": 2,
   "id": "4d7a8f05",
   "metadata": {},
   "outputs": [],
   "source": [
    "#Defining Functions\n",
    "\n",
    "def f1(x):\n",
    "    return -0.5*x + 4.0\n",
    "\n",
    "def f2(x):\n",
    "    return -0.29*(x**2)-x+12.5\n",
    "\n",
    "def f3(x):\n",
    "    return 1.0 + 10*(x+1.0)*(ma.e ** (-x**2))"
   ]
  },
  {
   "cell_type": "code",
   "execution_count": 3,
   "id": "477a50dd",
   "metadata": {},
   "outputs": [
    {
     "name": "stdout",
     "output_type": "stream",
     "text": [
      "39.99999999999165\n",
      "100.83333357496716\n",
      "27.72453850902199\n"
     ]
    }
   ],
   "source": [
    "#Midpoints of the rectangles\n",
    "a=0.0005\n",
    "mid_points= np.arange(-5.0,5.0,2*a)+a\n",
    "\n",
    "#Heights of the rectangles\n",
    "\n",
    "y1 = f1(mid_points)\n",
    "y2 = f2(mid_points)\n",
    "y3 = f3(mid_points)\n",
    "\n",
    "#Areas of the rectangles\n",
    "\n",
    "total1 = np.sum(y1*(2*a))\n",
    "print(total1)\n",
    "total2 = np.sum(y2*(2*a))\n",
    "print(total2)\n",
    "total3 = np.sum(y3*(2*a))\n",
    "print(total3)"
   ]
  },
  {
   "cell_type": "code",
   "execution_count": 4,
   "id": "f1911cd1",
   "metadata": {},
   "outputs": [
    {
     "name": "stdout",
     "output_type": "stream",
     "text": [
      "40.0\n",
      "100.8333333333333\n",
      "27.72453844220361\n"
     ]
    }
   ],
   "source": [
    "#Scipy quad. areas\n",
    "quad1 = integrate.quadrature(f1, -5.0, 5.0)[0]\n",
    "print(quad1)\n",
    "quad2 = integrate.quadrature(f2, -5.0, 5.0)[0]\n",
    "print(quad2)\n",
    "quad3 = integrate.quadrature(f3, -5.0, 5.0)[0]\n",
    "print(quad3)"
   ]
  },
  {
   "cell_type": "code",
   "execution_count": 5,
   "id": "5ec24320",
   "metadata": {},
   "outputs": [
    {
     "name": "stdout",
     "output_type": "stream",
     "text": [
      "2.0872192862955124e-11\n",
      "2.3963688173120205e-07\n",
      "2.410080882716178e-07\n"
     ]
    }
   ],
   "source": [
    "#Percent differences\n",
    "\n",
    "def per_dif(mine, quad):\n",
    "    return 200*abs(mine - quad)/(mine + quad)\n",
    "    \n",
    "print(per_dif(total1, quad1))\n",
    "print(per_dif(total2, quad2))\n",
    "print(per_dif(total3, quad3))"
   ]
  },
  {
   "cell_type": "code",
   "execution_count": 16,
   "id": "21110045",
   "metadata": {},
   "outputs": [],
   "source": [
    "#Total areas for varying step sizes\n",
    "\n",
    "b=0.000001\n",
    "\n",
    "coefficients = np.arange(1,100001,500)\n",
    "\n",
    "dx_array = b*coefficients\n",
    "\n",
    "areas1 = []\n",
    "areas2 = []\n",
    "areas3 = []\n",
    "\n",
    "for ss in dx_array:\n",
    "    mid_points= np.arange(-5.0,5.0,ss)+ss/2\n",
    "    y1 = f1(mid_points)\n",
    "    y2 = f2(mid_points)\n",
    "    y3 = f3(mid_points)\n",
    "    total1 = np.sum(y1*ss)\n",
    "    areas1.append(total1)\n",
    "    total2 = np.sum(y2*ss)\n",
    "    areas2.append(total2)\n",
    "    total3 = np.sum(y3*ss)\n",
    "    areas3.append(total3)"
   ]
  },
  {
   "cell_type": "code",
   "execution_count": 17,
   "id": "ac53b204",
   "metadata": {},
   "outputs": [],
   "source": [
    "#Percent Differences for varying step sizes\n",
    "per_difs1 = per_dif(areas1, quad1)\n",
    "per_difs2 = per_dif(areas2, quad2)\n",
    "per_difs3 = per_dif(areas3, quad3)"
   ]
  },
  {
   "cell_type": "markdown",
   "id": "240e8457",
   "metadata": {},
   "source": [
    "# ## Percent Diffences vs. step sizes for the functions\n"
   ]
  },
  {
   "cell_type": "code",
   "execution_count": 26,
   "id": "e1fcc1bf",
   "metadata": {},
   "outputs": [
    {
     "data": {
      "text/plain": [
       "[<matplotlib.lines.Line2D at 0x2770ec85040>]"
      ]
     },
     "execution_count": 26,
     "metadata": {},
     "output_type": "execute_result"
    },
    {
     "data": {
      "image/png": "[encoded data removed]",
      "text/plain": [
       "<Figure size 432x288 with 1 Axes>"
      ]
     },
     "metadata": {
      "needs_background": "light"
     },
     "output_type": "display_data"
    }
   ],
   "source": [
    "plt.scatter(dx_array, per_difs1)\n",
    "\n",
    "#Adding trendline-------------------------------------------\n",
    "z = np.polyfit(dx_array, per_difs1, 1)\n",
    "p = np.poly1d(z)\n",
    "plt.plot(dx_array, p(dx_array), \"r-o\")\n",
    "#Credit: tutorialspoint.com/how-can-i-draw-a-scatter-trend-line-using-matplotlib"
   ]
  },
  {
   "cell_type": "code",
   "execution_count": 27,
   "id": "1ad66886",
   "metadata": {},
   "outputs": [
    {
     "data": {
      "text/plain": [
       "[<matplotlib.lines.Line2D at 0x2770e67c610>]"
      ]
     },
     "execution_count": 27,
     "metadata": {},
     "output_type": "execute_result"
    },
    {
     "data": {
      "image/png": "[encoded data removed]",
      "text/plain": [
       "<Figure size 432x288 with 1 Axes>"
      ]
     },
     "metadata": {
      "needs_background": "light"
     },
     "output_type": "display_data"
    }
   ],
   "source": [
    "plt.scatter(dx_array, per_difs2)\n",
    "z = np.polyfit(dx_array, per_difs2, 1)\n",
    "p = np.poly1d(z)\n",
    "plt.plot(dx_array, p(dx_array), \"r-o\")\n",
    "#Obviously not linear but anyway"
   ]
  },
  {
   "cell_type": "code",
   "execution_count": 28,
   "id": "491b2128",
   "metadata": {},
   "outputs": [
    {
     "data": {
      "text/plain": [
       "[<matplotlib.lines.Line2D at 0x2770e6bbdc0>]"
      ]
     },
     "execution_count": 28,
     "metadata": {},
     "output_type": "execute_result"
    },
    {
     "data": {
      "image/png": "[encoded data removed]",
      "text/plain": [
       "<Figure size 432x288 with 1 Axes>"
      ]
     },
     "metadata": {
      "needs_background": "light"
     },
     "output_type": "display_data"
    }
   ],
   "source": [
    "plt.scatter(dx_array, per_difs3)\n",
    "z = np.polyfit(dx_array, per_difs3, 1)\n",
    "p = np.poly1d(z)\n",
    "plt.plot(dx_array, p(dx_array), \"r-o\")"
   ]
  },
  {
   "cell_type": "code",
   "execution_count": null,
   "id": "edd31ac0",
   "metadata": {},
   "outputs": [],
   "source": []
  }
 ],
 "metadata": {
  "kernelspec": {
   "display_name": "Python 3 (ipykernel)",
   "language": "python",
   "name": "python3"
  },
  "language_info": {
   "codemirror_mode": {
    "name": "ipython",
    "version": 3
   },
   "file_extension": ".py",
   "mimetype": "text/x-python",
   "name": "python",
   "nbconvert_exporter": "python",
   "pygments_lexer": "ipython3",
   "version": "3.9.7"
  }
 },
 "nbformat": 4,
 "nbformat_minor": 5
}
