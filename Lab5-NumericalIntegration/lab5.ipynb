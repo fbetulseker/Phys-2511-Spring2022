{
 "cells": [
  {
   "cell_type": "code",
   "execution_count": 40,
   "metadata": {},
   "outputs": [],
   "source": [
    "#Fatma Betul Seker\n",
    "#Lab 5 - Area Under a Curve\n",
    "#17 Feb 2022\n",
    "\n",
    "import numpy as np\n",
    "import math as ma\n",
    "from scipy import integrate\n",
    "import matplotlib as mpl\n",
    "import matplotlib.pyplot as plt"
   ]
  },
  {
   "cell_type": "markdown",
   "metadata": {},
   "source": [
    "## Question:\n",
    "Find the area under 3 curves, over the interval x = -5.0 to 5.0:\n",
    "\n",
    "• Straight line: y1 = -0.5 x + 4.0\n",
    "\n",
    "• Parabola: y2 = -0.29 x2 - x + 12.5\n",
    "\n",
    "• More Complicated function: y3 = 1.0 + 10*(x + 1.0)*exp(-x2)"
   ]
  },
  {
   "cell_type": "code",
   "execution_count": 20,
   "metadata": {},
   "outputs": [],
   "source": [
    "#Defining Functions\n",
    "\n",
    "def f1(x):\n",
    "    return -0.5*x + 4.0\n",
    "\n",
    "def f2(x):\n",
    "    return -0.29*(x**2)-x+12.5\n",
    "\n",
    "def f3(x):\n",
    "    return 1.0 + 10*(x+1.0)*(ma.e ** (-x**2))"
   ]
  },
  {
   "cell_type": "code",
   "execution_count": 30,
   "metadata": {},
   "outputs": [
    {
     "name": "stdout",
     "output_type": "stream",
     "text": [
      "39.99999999999165\n",
      "100.83333357496716\n",
      "27.72453850902199\n"
     ]
    }
   ],
   "source": [
    "#Midpoints of the rectangles\n",
    "a=0.0005\n",
    "mid_points= np.arange(-5.0,5.0,2*a)+a\n",
    "\n",
    "#Heights of the rectangles\n",
    "\n",
    "y1 = f1(mid_points)\n",
    "y2 = f2(mid_points)\n",
    "y3 = f3(mid_points)\n",
    "\n",
    "#Areas of the rectangles\n",
    "\n",
    "total1 = np.sum(y1*(2*a))\n",
    "print(total1)\n",
    "total2 = np.sum(y2*(2*a))\n",
    "print(total2)\n",
    "total3 = np.sum(y3*(2*a))\n",
    "print(total3)"
   ]
  },
  {
   "cell_type": "code",
   "execution_count": 31,
   "metadata": {},
   "outputs": [
    {
     "name": "stdout",
     "output_type": "stream",
     "text": [
      "40.0\n",
      "100.8333333333333\n",
      "27.72453844220361\n"
     ]
    }
   ],
   "source": [
    "#Scipy quad. areas\n",
    "quad1 = integrate.quadrature(f1, -5.0, 5.0)[0]\n",
    "print(quad1)\n",
    "quad2 = integrate.quadrature(f2, -5.0, 5.0)[0]\n",
    "print(quad2)\n",
    "quad3 = integrate.quadrature(f3, -5.0, 5.0)[0]\n",
    "print(quad3)"
   ]
  },
  {
   "cell_type": "code",
   "execution_count": 34,
   "metadata": {},
   "outputs": [
    {
     "name": "stdout",
     "output_type": "stream",
     "text": [
      "2.0872192862955124e-11\n",
      "2.3963688173120205e-07\n",
      "2.410080882716178e-07\n"
     ]
    }
   ],
   "source": [
    "#Percent differences\n",
    "\n",
    "def per_dif(mine, quad):\n",
    "    return 200*abs(mine - quad)/(mine + quad)\n",
    "    \n",
    "print(per_dif(total1, quad1))\n",
    "print(per_dif(total2, quad2))\n",
    "print(per_dif(total3, quad3))"
   ]
  },
  {
   "cell_type": "code",
   "execution_count": 50,
   "metadata": {},
   "outputs": [
    {
     "name": "stdout",
     "output_type": "stream",
     "text": [
      "[39.99999999650555, 40.00001500092143, 40.00014999755826, 39.99999999999165, 40.00000000000053, 40.147500000000086, 40.0]\n",
      "[100.83333331958868, 100.83333583688521, 100.83335831647912, 100.83333357496716, 100.83335750000211, 100.84117750000036, 101.075]\n",
      "[27.72453850655038, 27.724548509698916, 27.724638509069297, 27.72453850902199, 27.7245385090283, 27.824538509079932, 27.722704969842344]\n"
     ]
    }
   ],
   "source": [
    "#Total areas for varying step sizes\n",
    "\n",
    "b=0.000001\n",
    "dx_array = np.array([b, b*10, b*100, b*1000, b*10000, b*100000, b*1000000])\n",
    "\n",
    "areas1 = []\n",
    "areas2 = []\n",
    "areas3 = []\n",
    "\n",
    "for ss in dx_array:\n",
    "    mid_points= np.arange(-5.0,5.0,ss)+ss/2\n",
    "    y1 = f1(mid_points)\n",
    "    y2 = f2(mid_points)\n",
    "    y3 = f3(mid_points)\n",
    "    total1 = np.sum(y1*ss)\n",
    "    areas1.append(total1)\n",
    "    total2 = np.sum(y2*ss)\n",
    "    areas2.append(total2)\n",
    "    total3 = np.sum(y3*ss)\n",
    "    areas3.append(total3)\n",
    "print(areas1)\n",
    "print(areas2)\n",
    "print(areas3)"
   ]
  },
  {
   "cell_type": "code",
   "execution_count": 56,
   "metadata": {},
   "outputs": [
    {
     "data": {
      "text/plain": [
       "array([2.32093211e-07, 3.63125738e-05, 3.60931834e-04, 2.41008088e-07,\n",
       "       2.41030847e-07, 3.60042227e-01, 6.61339410e-03])"
      ]
     },
     "execution_count": 56,
     "metadata": {},
     "output_type": "execute_result"
    }
   ],
   "source": [
    "#Percent Differences for varying step sizes\n",
    "per_difs1 = per_dif(areas1, quad1)\n",
    "per_difs2 = per_dif(areas2, quad2)\n",
    "per_difs3 = per_dif(areas3, quad3)"
   ]
  },
  {
   "cell_type": "markdown",
   "metadata": {},
   "source": [
    "## Percent Diffences vs. step sizes for the functions\n",
    "(log10 is applied to step sizes to get a better pilot)"
   ]
  },
  {
   "cell_type": "code",
   "execution_count": 52,
   "metadata": {},
   "outputs": [
    {
     "data": {
      "text/plain": [
       "[<matplotlib.lines.Line2D at 0x243ca1989e8>]"
      ]
     },
     "execution_count": 52,
     "metadata": {},
     "output_type": "execute_result"
    },
    {
     "data": {
      "image/png": "[encoded data removed]",
      "text/plain": [
       "<Figure size 432x288 with 1 Axes>"
      ]
     },
     "metadata": {
      "needs_background": "light"
     },
     "output_type": "display_data"
    }
   ],
   "source": [
    "plt.plot(np.log10(dx_array), per_difs1)"
   ]
  },
  {
   "cell_type": "code",
   "execution_count": 53,
   "metadata": {},
   "outputs": [
    {
     "data": {
      "text/plain": [
       "[<matplotlib.lines.Line2D at 0x243ca2359b0>]"
      ]
     },
     "execution_count": 53,
     "metadata": {},
     "output_type": "execute_result"
    },
    {
     "data": {
      "image/png": "[encoded data removed]",
      "text/plain": [
       "<Figure size 432x288 with 1 Axes>"
      ]
     },
     "metadata": {
      "needs_background": "light"
     },
     "output_type": "display_data"
    }
   ],
   "source": [
    "plt.plot(np.log10(dx_array), per_difs2)"
   ]
  },
  {
   "cell_type": "code",
   "execution_count": 57,
   "metadata": {},
   "outputs": [
    {
     "data": {
      "text/plain": [
       "[<matplotlib.lines.Line2D at 0x243ca354da0>]"
      ]
     },
     "execution_count": 57,
     "metadata": {},
     "output_type": "execute_result"
    },
    {
     "data": {
      "image/png": "[encoded data removed]",
      "text/plain": [
       "<Figure size 432x288 with 1 Axes>"
      ]
     },
     "metadata": {
      "needs_background": "light"
     },
     "output_type": "display_data"
    }
   ],
   "source": [
    "plt.plot(np.log10(dx_array), per_difs3)"
   ]
  }
 ],
 "metadata": {
  "kernelspec": {
   "display_name": "Python 3",
   "language": "python",
   "name": "python3"
  },
  "language_info": {
   "codemirror_mode": {
    "name": "ipython",
    "version": 3
   },
   "file_extension": ".py",
   "mimetype": "text/x-python",
   "name": "python",
   "nbconvert_exporter": "python",
   "pygments_lexer": "ipython3",
   "version": "3.7.1"
  }
 },
 "nbformat": 4,
 "nbformat_minor": 2
}
