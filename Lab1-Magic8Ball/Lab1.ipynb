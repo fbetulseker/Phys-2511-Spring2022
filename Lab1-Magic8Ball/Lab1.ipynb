{
 "cells": [
  {
   "cell_type": "code",
   "execution_count": null,
   "metadata": {},
   "outputs": [],
   "source": [
    "##Fatma Betul Seker\n",
    "##20 Jan 2022\n",
    "##Programming Lab 1 – Magic 8-Ball\n",
    "import random as rn\n",
    "import time as tm"
   ]
  },
  {
   "cell_type": "code",
   "execution_count": null,
   "metadata": {},
   "outputs": [],
   "source": [
    "cust_answer = input(\"What is your question?\")"
   ]
  },
  {
   "cell_type": "code",
   "execution_count": null,
   "metadata": {},
   "outputs": [],
   "source": [
    "print(\"Calculating...\")\n",
    "tm.sleep(3)\n",
    "num_answer=rn.randint(0,1)\n",
    "print(\"Your question was\", cust_answer)\n",
    "tm.sleep(1)\n",
    "print(\"Hmm...\")\n",
    "tm.sleep(2)\n",
    "\n",
    "if \"married\" in cust_answer:\n",
    "    print(\"No way\")\n",
    "elif num_answer == 1:\n",
    "    print(\"The answer is yes\")\n",
    "elif num_answer == 0:\n",
    "    print(\"The answer is no\")"
   ]
  }
 ],
 "metadata": {
  "kernelspec": {
   "display_name": "Python 3",
   "language": "python",
   "name": "python3"
  },
  "language_info": {
   "codemirror_mode": {
    "name": "ipython",
    "version": 3
   },
   "file_extension": ".py",
   "mimetype": "text/x-python",
   "name": "python",
   "nbconvert_exporter": "python",
   "pygments_lexer": "ipython3",
   "version": "3.7.1"
  }
 },
 "nbformat": 4,
 "nbformat_minor": 2
}
